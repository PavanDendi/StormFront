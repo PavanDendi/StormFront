{
 "cells": [
  {
   "cell_type": "code",
   "execution_count": null,
   "metadata": {},
   "outputs": [],
   "source": [
    "import sys, os\n",
    "sys.path.append(os.path.abspath('../../'))\n",
    "# print(\"\\n\".join(sys.path))\n",
    "\n",
    "from StormFront.sql_select import StateSingleton\n",
    "import ipywidgets as w\n",
    "\n",
    "debug = StateSingleton().debug\n",
    "debug.layout = w.Layout(width = \"100%\", height = \"400px\")\n",
    "debug"
   ]
  },
  {
   "cell_type": "code",
   "execution_count": null,
   "metadata": {},
   "outputs": [],
   "source": [
    "# from pathlib import PosixPath, Path\n",
    "from StormFront import app, DBR\n",
    "\n",
    "# from src.dUI.db_select import SQLEPConfig\n",
    "# from src.dUI.utils import *\n",
    "# from src.dUI.utils import read_sql_files, ConnConfig, DBstressCfg\n",
    "scope = \"scope\"\n",
    "key = \"key\"\n",
    "if DBR:\n",
    "    token = dbutils.secrets.get(scope, key)\n",
    "\n",
    "display(app.start())"
   ]
  },
  {
   "cell_type": "markdown",
   "metadata": {},
   "source": [
    "# Dependencies\n",
    "\n",
    "install `StormFront` either as a cluster library or as a notebook scoped library using `%pip install git+https://www.github.com/PavanDendi/StormFront`\n",
    "\n",
    "Install `sqlstorm` jar from https://github.com/PavanDendi/sqlstorm/tree/databricks to your cluster.\n",
    "\n",
    "Compiled binary can be found in the github Releases [HERE](https://github.com/PavanDendi/dbstress/releases/download/0.0.0/sqlstorm-assembly-0.0.0-SNAPSHOT.jar), or compile from source using `sbt assembly` from the sql⚡torm repo root directory.\n",
    "\n",
    "Cluster can be a single node using a weak instance type since the cluster will only be sending API calls, and processing minimal data itself.\n",
    "\n",
    "Cluster must be running a DBR version that supports ipykernel. Tested on DBR 10.4 LTS\n",
    "\n",
    "If using DBR 11+, ipykernel is enabled by default.\n",
    "For 11 >= DBR >= 10.3, enable ipykernel by adding to cluster config\n",
    "```\n",
    "spark.databricks.python.defaultPythonRepl ipykernel\n",
    "```"
   ]
  },
  {
   "cell_type": "code",
   "execution_count": null,
   "metadata": {},
   "outputs": [],
   "source": [
    "# Select SQL Files to Run\n",
    "\n",
    "from StormFront import app\n",
    "\n",
    "# dUI.start(root_path=\"/Users/pavan.dendi/Documents/benchit/dUI/queries\")\n",
    "display(app.start())"
   ]
  },
  {
   "cell_type": "code",
   "execution_count": null,
   "metadata": {},
   "outputs": [],
   "source": [
    "# Select DB SQL Endpoint\n",
    "\n",
    "from StormFront.db_select import SQLEPConfig\n",
    "\n",
    "# PAT token needed in order to query the workspace for DB SQL Endpoints\n",
    "# See https://docs.databricks.com/dev-tools/api/latest/authentication.html\n",
    "#    for instructions on how to generate a PAT\n",
    "# See https://docs.databricks.com/security/secrets/index.html\n",
    "#    for how to use the Secrets feature to securely store credentials\n",
    "token = dbutils.secrets.get(\"fieldeng\", \"prd-pat\")\n",
    "ep_sel = SQLEPConfig(token)\n",
    "display(ep_sel)"
   ]
  },
  {
   "cell_type": "code",
   "execution_count": null,
   "metadata": {},
   "outputs": [],
   "source": [
    "# Test JDBC Connection and sql⚡torm Config\n",
    "\n",
    "from pathlib import PosixPath, Path\n",
    "from StormFront import app\n",
    "from StormFront.utils import *\n",
    "\n",
    "jdbc = ep_sel.get_jdbc()\n",
    "dbstress_cfg = DBstressCfg(\n",
    "    yaml_path=\"/dbfs/tmp/dbstress/config.yaml\",\n",
    "    result_path=\"/dbfs/tmp/dbstress/output/\"\n",
    ")\n",
    "conn_cfg = ConnConfig(\n",
    "    parallel=1,\n",
    "    repeats=1,\n",
    "    timeout=3000\n",
    ")\n",
    "\n",
    "display(app.run(jdbc, [Query(\"test\", \"SELECT 1\")], dbs_cfg=dbstress_cfg, conn=conn_cfg))"
   ]
  },
  {
   "cell_type": "code",
   "execution_count": null,
   "metadata": {},
   "outputs": [],
   "source": [
    "# Run dbstress with Selected SQL files and JDBC Connection\n",
    "\n",
    "from pathlib import Path\n",
    "from StormFront.utils import read_sql_files, ConnConfig, DBstressCfg\n",
    "\n",
    "\n",
    "jdbc = ep_sel.get_jdbc()\n",
    "queries = read_sql_files(app.get_selected(), info=True)\n",
    "\n",
    "dbstress_cfg = DBstressCfg(\n",
    "    yaml_path=\"/dbfs/tmp/dbstress/config.yaml\",\n",
    "    result_path=\"/dbfs/tmp/dbstress/output/\"\n",
    ")\n",
    "\n",
    "conn_cfg = ConnConfig(\n",
    "    parallel=1,\n",
    "    repeats=1,\n",
    "    timeout=3000\n",
    ")\n",
    "\n",
    "display(app.run(jdbc, queries, dbs_cfg=dbstress_cfg, conn=conn_cfg))"
   ]
  }
 ],
 "metadata": {
  "interpreter": {
   "hash": "62d696385e25c30fd3f16212346cc7890c5a24557ea1c9559f9a588381f8d959"
  },
  "kernelspec": {
   "display_name": "Python 3.8.13 ('benchit')",
   "language": "python",
   "name": "python3"
  },
  "language_info": {
   "codemirror_mode": {
    "name": "ipython",
    "version": 3
   },
   "file_extension": ".py",
   "mimetype": "text/x-python",
   "name": "python",
   "nbconvert_exporter": "python",
   "pygments_lexer": "ipython3",
   "version": "3.8.13"
  },
  "orig_nbformat": 4
 },
 "nbformat": 4,
 "nbformat_minor": 2
}
