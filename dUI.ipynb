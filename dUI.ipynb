{
 "cells": [
  {
   "cell_type": "code",
   "execution_count": null,
   "metadata": {},
   "outputs": [],
   "source": [
    "import ipywidgets as w\n",
    "\n",
    "debug_ext = w.Textarea(layout=w.Layout(width=\"100%\", height=\"30em\"))\n",
    "debug_ext"
   ]
  },
  {
   "cell_type": "code",
   "execution_count": null,
   "metadata": {
    "scrolled": false
   },
   "outputs": [],
   "source": [
    "from src.dUI import dUI\n",
    "from src.dUI.sql_select import CONTEXT\n",
    "\n",
    "\"\"\"\n",
    "    root_path: start app using a different root than default\n",
    "                default path is /Workspace/Repos/{username}/dUI/queries\n",
    "\n",
    "    show_debug: show debug messages above app\n",
    "\n",
    "    debug_ext: widget to use instead of internal text widget\n",
    "                this is useful if you want a larger debug output at a different cell\n",
    "                app widgets post messages by appending to debug_w.value\n",
    "\"\"\"\n",
    "\n",
    "# dUI.start(root_path=\"/Users/pavan.dendi/Documents/benchit/dUI/queries\",debug_ext=debug_ext)\n",
    "dUI.start()"
   ]
  },
  {
   "cell_type": "code",
   "execution_count": null,
   "metadata": {},
   "outputs": [],
   "source": [
    "from src.dUI.db_select import SQLEPConfig\n",
    "\n",
    "token = \n",
    "ep_sel = SQLEPConfig(token, host = \"adb-984752964297111.11.azuredatabricks.net\")\n",
    "ep_sel"
   ]
  },
  {
   "cell_type": "code",
   "execution_count": null,
   "metadata": {},
   "outputs": [],
   "source": [
    "\n",
    "ep_sel.get_jdbc(4)"
   ]
  },
  {
   "cell_type": "code",
   "execution_count": null,
   "metadata": {},
   "outputs": [],
   "source": []
  }
 ],
 "metadata": {
  "interpreter": {
   "hash": "c6e4e9f98eb68ad3b7c296f83d20e6de614cb42e90992a65aa266555a3137d0d"
  },
  "kernelspec": {
   "display_name": "Python 3 (ipykernel)",
   "language": "python",
   "name": "python3"
  },
  "language_info": {
   "codemirror_mode": {
    "name": "ipython",
    "version": 3
   },
   "file_extension": ".py",
   "mimetype": "text/x-python",
   "name": "python",
   "nbconvert_exporter": "python",
   "pygments_lexer": "ipython3",
   "version": "3.8.13"
  }
 },
 "nbformat": 4,
 "nbformat_minor": 2
}
