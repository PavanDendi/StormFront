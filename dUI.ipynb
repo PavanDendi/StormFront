{
 "cells": [
  {
   "cell_type": "code",
   "execution_count": null,
   "metadata": {},
   "outputs": [],
   "source": [
    "import ipywidgets as w\n",
    "\n",
    "debug_ext = w.Textarea(layout=w.Layout(width=\"100%\", height=\"30em\"))\n",
    "debug_ext"
   ]
  },
  {
   "cell_type": "code",
   "execution_count": null,
   "metadata": {
    "scrolled": false
   },
   "outputs": [],
   "source": [
    "from src.dUI import dUI\n",
    "from src.dUI.sql_select import CONTEXT\n",
    "\n",
    "\"\"\"\n",
    "    root_path: start app using a different root than default\n",
    "                default path is /Workspace/Repos/{username}/dUI/queries\n",
    "\n",
    "    show_debug: show debug messages above app\n",
    "\n",
    "    debug_ext: widget to use instead of internal text widget\n",
    "                this is useful if you want a larger debug output at a different cell\n",
    "                app widgets post messages by appending to debug_w.value\n",
    "\"\"\"\n",
    "\n",
    "# dUI.start(root_path=\"/Users/pavan.dendi/Documents/benchit/dUI/queries\",debug_ext=debug_ext)\n",
    "dUI.start()"
   ]
  },
  {
   "cell_type": "code",
   "execution_count": null,
   "metadata": {},
   "outputs": [],
   "source": [
    "from src.dUI.db_select import container\n",
    "\n",
    "token = dbutils.secrets.get(\"fieldeng\", \"prd-pat\")\n",
    "\n",
    "# hostname for workspace to query for DBSQL endpoints\n",
    "# default is to use current notebook's workspace\n",
    "# hostname = \"adb-984752964297111.11.azuredatabricks.net\"\n",
    "\n",
    "display(container)"
   ]
  },
  {
   "cell_type": "code",
   "execution_count": null,
   "metadata": {},
   "outputs": [],
   "source": [
    "\n",
    "\n",
    "selected_sql = globals.StateSingleton().get_selected()\n",
    "yaml_path = \"/dbfs/dbstress/configs/test_config_2.yaml\"\n",
    "result_path = \"/dbfs/dbstress/output/\""
   ]
  },
  {
   "cell_type": "code",
   "execution_count": null,
   "metadata": {},
   "outputs": [],
   "source": [
    "%scala\n",
    "\n",
    "import java.sql.DriverManager\n",
    "\n",
    "DriverManager.registerDriver(new com.simba.spark.jdbc.Driver())"
   ]
  },
  {
   "cell_type": "code",
   "execution_count": null,
   "metadata": {},
   "outputs": [],
   "source": []
  }
 ],
 "metadata": {
  "interpreter": {
   "hash": "c6e4e9f98eb68ad3b7c296f83d20e6de614cb42e90992a65aa266555a3137d0d"
  },
  "kernelspec": {
   "display_name": "Python 3 (ipykernel)",
   "language": "python",
   "name": "python3"
  },
  "language_info": {
   "codemirror_mode": {
    "name": "ipython",
    "version": 3
   },
   "file_extension": ".py",
   "mimetype": "text/x-python",
   "name": "python",
   "nbconvert_exporter": "python",
   "pygments_lexer": "ipython3",
   "version": "3.8.13"
  }
 },
 "nbformat": 4,
 "nbformat_minor": 2
}
